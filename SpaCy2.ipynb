{
 "cells": [
  {
   "cell_type": "code",
   "execution_count": 2,
   "id": "8685f3e9-adff-4490-a10e-76a1781bde8f",
   "metadata": {},
   "outputs": [],
   "source": [
    "import spacy\n",
    "nlp = spacy.load(\"en_core_web_sm\")\n"
   ]
  },
  {
   "cell_type": "code",
   "execution_count": 7,
   "id": "caad6948-c607-41a7-ab16-5669be016dec",
   "metadata": {},
   "outputs": [
    {
     "name": "stdout",
     "output_type": "stream",
     "text": [
      "['Ravi', 'Raju', 'Paris', 'London', 'Dubai', 'Rome', 'Mohan', 'Hyderabad']\n"
     ]
    },
    {
     "data": {
      "text/plain": [
       "8"
      ]
     },
     "execution_count": 7,
     "metadata": {},
     "output_type": "execute_result"
    }
   ],
   "source": [
    "text = ''' Ravi and Raju are the best friends from school days.They wanted to go for a world tour and \n",
    "visit famous cities like Paris, London, Dubai, Rome etc and also they called their another friend Mohan to take part of this world tour.\n",
    "They started their journey from Hyderabad and spent next 3 months travelling all the wonderful cities in the world and cherish a happy moments!\n",
    "'''\n",
    "doc = nlp(text) \n",
    "proper_nouns=[]\n",
    "for token in doc:\n",
    "    if token.pos_=='PROPN':\n",
    "        proper_nouns.append(token.text)\n",
    "    else:\n",
    "        continue\n",
    "count=len(proper_nouns)\n",
    "print(proper_nouns)\n",
    "count"
   ]
  },
  {
   "cell_type": "code",
   "execution_count": 12,
   "id": "beb59a7a-cbb3-463d-ac2b-4a5c22c8412d",
   "metadata": {},
   "outputs": [
    {
     "name": "stdout",
     "output_type": "stream",
     "text": [
      "5\n",
      "USA\n",
      "Tesla\n",
      "Walmart\n",
      "Amazon\n",
      "Microsoft\n",
      "Google\n",
      "5\n",
      "India\n",
      "Infosys\n",
      "Reliance\n",
      "HDFC Bank\n",
      "Hindustan Unilever\n",
      "Bharti Airtel\n",
      "Company Names:  [Tesla, Walmart, Amazon, Microsoft, Google, Infosys, Reliance, HDFC Bank, Hindustan Unilever, Bharti Airtel]\n",
      "Count:  10\n"
     ]
    }
   ],
   "source": [
    "text = '''The Top 5 companies in USA are Tesla, Walmart, Amazon, Microsoft, Google and the top 5 companies in \n",
    "India are Infosys, Reliance, HDFC Bank, Hindustan Unilever and Bharti Airtel'''\n",
    "\n",
    "\n",
    "doc = nlp(text)\n",
    "\n",
    "#list for storing the company names\n",
    "all_company_names = []\n",
    "\n",
    "for ent in doc.ents:\n",
    "\n",
    "    if ent.label_ == 'ORG':\n",
    "        all_company_names.append(ent)\n",
    "\n",
    "\n",
    "\n",
    "\n",
    "print(\"Company Names: \", all_company_names)\n",
    "print(\"Count: \", len(all_company_names))"
   ]
  },
  {
   "cell_type": "code",
   "execution_count": null,
   "id": "94bfc13c-93c8-42fb-8ef4-8f66e5ba0579",
   "metadata": {},
   "outputs": [],
   "source": []
  }
 ],
 "metadata": {
  "kernelspec": {
   "display_name": "Python 3 (ipykernel)",
   "language": "python",
   "name": "python3"
  },
  "language_info": {
   "codemirror_mode": {
    "name": "ipython",
    "version": 3
   },
   "file_extension": ".py",
   "mimetype": "text/x-python",
   "name": "python",
   "nbconvert_exporter": "python",
   "pygments_lexer": "ipython3",
   "version": "3.11.0"
  }
 },
 "nbformat": 4,
 "nbformat_minor": 5
}
